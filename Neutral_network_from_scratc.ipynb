{
  "nbformat": 4,
  "nbformat_minor": 0,
  "metadata": {
    "colab": {
      "name": "Untitled1.ipynb",
      "provenance": [],
      "authorship_tag": "ABX9TyN7dCxOwYvmG6uY0x7kWW3o",
      "include_colab_link": true
    },
    "kernelspec": {
      "name": "python3",
      "display_name": "Python 3"
    }
  },
  "cells": [
    {
      "cell_type": "markdown",
      "metadata": {
        "id": "view-in-github",
        "colab_type": "text"
      },
      "source": [
        "<a href=\"https://colab.research.google.com/github/shreyaagr2909/Machine-Learning/blob/master/Neutral_network_from_scratc.ipynb\" target=\"_parent\"><img src=\"https://colab.research.google.com/assets/colab-badge.svg\" alt=\"Open In Colab\"/></a>"
      ]
    },
    {
      "cell_type": "code",
      "metadata": {
        "id": "7o2PNX06abGl",
        "colab_type": "code",
        "colab": {
          "base_uri": "https://localhost:8080/",
          "height": 255
        },
        "outputId": "ce5763af-db68-466d-88a3-9e1fa0ce7753"
      },
      "source": [
        "import numpy as np\n",
        "import random\n",
        "\n",
        "def sigmoid(x):\n",
        "  return 1/(1 + np.exp(-x))\n",
        "\n",
        "def sigmoid_derivative(x):\n",
        "  return x * (1 - x)\n",
        "\n",
        "training_inputs = np.array([[0,0,1],\n",
        "                            [1,1,1],\n",
        "                            [1,0,1],\n",
        "                            [0,1,1]])\n",
        "\n",
        "actual_outputs = np.array([[0,1,1,0]]).T\n",
        "\n",
        "np.random.seed(1)\n",
        "random_weigths = 2 * np.random.random((3,1))-1\n",
        "\n",
        "for i in range(10000):\n",
        "  input_layer = training_inputs\n",
        "  predicted_output = sigmoid(np.dot(input_layer,random_weigths))\n",
        "  error = actual_outputs - predicted_output\n",
        "  adjustments = error * sigmoid_derivative(predicted_output)\n",
        "  random_weigths = random_weigths + np.dot(input_layer.T , adjustments)\n",
        "\n",
        "print(\"Error\")\n",
        "print(error)\n",
        "print(\"Random weights\")\n",
        "print(random_weigths)\n",
        "print(\"Predicted outputs\")\n",
        "print(predicted_output)\n"
      ],
      "execution_count": 61,
      "outputs": [
        {
          "output_type": "stream",
          "text": [
            "Error\n",
            "[[-0.00966449]\n",
            " [ 0.00788043]\n",
            " [ 0.00641102]\n",
            " [-0.00786506]]\n",
            "Random weights\n",
            "[[ 9.67299303]\n",
            " [-0.2078435 ]\n",
            " [-4.62963669]]\n",
            "Predicted outputs\n",
            "[[0.00966449]\n",
            " [0.99211957]\n",
            " [0.99358898]\n",
            " [0.00786506]]\n"
          ],
          "name": "stdout"
        }
      ]
    },
    {
      "cell_type": "code",
      "metadata": {
        "id": "CByDBGu7mydb",
        "colab_type": "code",
        "colab": {}
      },
      "source": [
        ""
      ],
      "execution_count": 0,
      "outputs": []
    }
  ]
}